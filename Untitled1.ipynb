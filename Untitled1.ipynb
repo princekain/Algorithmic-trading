{
 "cells": [
  {
   "cell_type": "code",
   "execution_count": 51,
   "id": "12f060dc",
   "metadata": {},
   "outputs": [],
   "source": [
    "import numpy as np"
   ]
  },
  {
   "cell_type": "code",
   "execution_count": 52,
   "id": "f9fcffff",
   "metadata": {},
   "outputs": [],
   "source": [
    "q=['Rupifi',\n",
    "'Ok Credit',\n",
    "'Rupifi',\n",
    "'MoneyView',\n",
    "'Rupifi',\n",
    "'Money on click',\n",
    "'MoneyView',\n",
    "'Udaan',\n",
    "'MoneyView',\n",
    "'MoneyView',\n",
    "'Udaan',\n",
    "'Udaan',\n",
    "'Khatabook',\n",
    "'Khatabook',\n",
    "'Ok Credit',\n",
    "'Khatabook',\n",
    "'Udaan',\n",
    "'MoneyView',\n",
    "'Khatabook',\n",
    "'Grayquest',\n",
    "'Khatabook',\n",
    "'MoneyView',\n",
    "'MoneyView',\n",
    "'MoneyView',\n",
    "'Udaan',\n",
    "'MoneyView',\n",
    "'MoneyView',\n",
    "'Krazybee',\n",
    "'MoneyView',\n",
    "'MoneyView',\n",
    "'MoneyView',\n",
    "'Rupifi',\n",
    "'Grayquest',\n",
    "'Grayquest',\n",
    "'Ok Credit',\n",
    "'MoneyView',\n",
    "'MoneyView',\n",
    "'Udaan',\n",
    "'MoneyView',\n",
    "'Udaan',\n",
    "'MoneyView',\n",
    "'MoneyView',\n",
    "'Udaan',\n",
    "'MoneyView',\n",
    "'Rupifi',\n",
    "'Udaan',\n",
    "'MoneyView',\n",
    "'Udaan',\n",
    "'Udaan',\n",
    "'Ok Credit',\n",
    "'MoneyView',\n",
    "'MoneyView',\n",
    "'MoneyView',\n",
    "'Krazybee',\n",
    "'Rupifi',\n",
    "'MoneyView',\n",
    "'Grayquest',\n",
    "'Udaan',\n",
    "'MoneyView',\n",
    "'Udaan',\n",
    "'Udaan',\n",
    "'OTO',\n",
    "'Udaan',\n",
    "'MoneyView',\n",
    "'Khatabook',\n",
    "'Khatabook',\n",
    "'MoneyView']"
   ]
  },
  {
   "cell_type": "code",
   "execution_count": 53,
   "id": "1514f464",
   "metadata": {},
   "outputs": [
    {
     "data": {
      "text/plain": [
       "['Rupifi',\n",
       " 'Ok Credit',\n",
       " 'Rupifi',\n",
       " 'MoneyView',\n",
       " 'Rupifi',\n",
       " 'Money on click',\n",
       " 'MoneyView',\n",
       " 'Udaan',\n",
       " 'MoneyView',\n",
       " 'MoneyView',\n",
       " 'Udaan',\n",
       " 'Udaan',\n",
       " 'Khatabook',\n",
       " 'Khatabook',\n",
       " 'Ok Credit',\n",
       " 'Khatabook',\n",
       " 'Udaan',\n",
       " 'MoneyView',\n",
       " 'Khatabook',\n",
       " 'Grayquest',\n",
       " 'Khatabook',\n",
       " 'MoneyView',\n",
       " 'MoneyView',\n",
       " 'MoneyView',\n",
       " 'Udaan',\n",
       " 'MoneyView',\n",
       " 'MoneyView',\n",
       " 'Krazybee',\n",
       " 'MoneyView',\n",
       " 'MoneyView',\n",
       " 'MoneyView',\n",
       " 'Rupifi',\n",
       " 'Grayquest',\n",
       " 'Grayquest',\n",
       " 'Ok Credit',\n",
       " 'MoneyView',\n",
       " 'MoneyView',\n",
       " 'Udaan',\n",
       " 'MoneyView',\n",
       " 'Udaan',\n",
       " 'MoneyView',\n",
       " 'MoneyView',\n",
       " 'Udaan',\n",
       " 'MoneyView',\n",
       " 'Rupifi',\n",
       " 'Udaan',\n",
       " 'MoneyView',\n",
       " 'Udaan',\n",
       " 'Udaan',\n",
       " 'Ok Credit',\n",
       " 'MoneyView',\n",
       " 'MoneyView',\n",
       " 'MoneyView',\n",
       " 'Krazybee',\n",
       " 'Rupifi',\n",
       " 'MoneyView',\n",
       " 'Grayquest',\n",
       " 'Udaan',\n",
       " 'MoneyView',\n",
       " 'Udaan',\n",
       " 'Udaan',\n",
       " 'OTO',\n",
       " 'Udaan',\n",
       " 'MoneyView',\n",
       " 'Khatabook',\n",
       " 'Khatabook',\n",
       " 'MoneyView']"
      ]
     },
     "execution_count": 53,
     "metadata": {},
     "output_type": "execute_result"
    }
   ],
   "source": [
    "queries"
   ]
  },
  {
   "cell_type": "code",
   "execution_count": 56,
   "id": "1ba19539",
   "metadata": {},
   "outputs": [],
   "source": [
    "Ok_Credit=0\n",
    "Grayquest=0\n",
    "MoneyView=0\n",
    "Krazybee=0\n",
    "Khatabook=0\n",
    "IREP=0\n",
    "Money_on_click=0\n",
    "OTO=0\n",
    "Rupifi=0\n",
    "Udaan=0\n",
    "Stashfin=0\n",
    "mylist=np.arange(0,67)\n",
    "for i in mylist:\n",
    "    if q[i]=='Ok Credit':\n",
    "        Ok_Credit+=1\n",
    "    elif q[i]=='Grayquest':\n",
    "        Grayquest+=1\n",
    "    elif q[i]=='MoneyView':\n",
    "        MoneyView+=1\n",
    "    elif q[i]=='Krazybee':\n",
    "        Krazybee+=1\n",
    "    elif q[i]=='Khatabook':\n",
    "        Khatabook+=1\n",
    "    elif q[i]=='OTO':\n",
    "        OTO+=OTO\n",
    "    elif q[i]=='Money on click':\n",
    "        Money_on_click+=1\n",
    "    elif q[i]=='IREP':\n",
    "        IREP+=1\n",
    "    elif q[i]=='Rupifi':\n",
    "        Rupifi+=1\n",
    "    elif q[i]=='Udaan':\n",
    "        Udaan+=1\n",
    "    elif q[i]=='Stashfin':\n",
    "        Stashfin+=1\n",
    "    else:\n",
    "        Mobikwik+=1\n",
    "    \n"
   ]
  },
  {
   "cell_type": "code",
   "execution_count": 57,
   "id": "905374e0",
   "metadata": {},
   "outputs": [
    {
     "data": {
      "text/plain": [
       "4"
      ]
     },
     "execution_count": 57,
     "metadata": {},
     "output_type": "execute_result"
    }
   ],
   "source": [
    "Ok_Credit\n"
   ]
  },
  {
   "cell_type": "code",
   "execution_count": 58,
   "id": "288d919a",
   "metadata": {},
   "outputs": [
    {
     "data": {
      "text/plain": [
       "15"
      ]
     },
     "execution_count": 58,
     "metadata": {},
     "output_type": "execute_result"
    }
   ],
   "source": [
    "Udaan"
   ]
  },
  {
   "cell_type": "code",
   "execution_count": 59,
   "id": "f7209531",
   "metadata": {},
   "outputs": [
    {
     "data": {
      "text/plain": [
       "6"
      ]
     },
     "execution_count": 59,
     "metadata": {},
     "output_type": "execute_result"
    }
   ],
   "source": [
    "Rupifi"
   ]
  },
  {
   "cell_type": "code",
   "execution_count": 60,
   "id": "aafc4d3b",
   "metadata": {},
   "outputs": [
    {
     "data": {
      "text/plain": [
       "0"
      ]
     },
     "execution_count": 60,
     "metadata": {},
     "output_type": "execute_result"
    }
   ],
   "source": [
    "IREP"
   ]
  },
  {
   "cell_type": "code",
   "execution_count": 61,
   "id": "72e04f69",
   "metadata": {},
   "outputs": [
    {
     "data": {
      "text/plain": [
       "1"
      ]
     },
     "execution_count": 61,
     "metadata": {},
     "output_type": "execute_result"
    }
   ],
   "source": [
    "Money_on_click"
   ]
  },
  {
   "cell_type": "code",
   "execution_count": 47,
   "id": "ff855635",
   "metadata": {},
   "outputs": [
    {
     "data": {
      "text/plain": [
       "66"
      ]
     },
     "execution_count": 47,
     "metadata": {},
     "output_type": "execute_result"
    }
   ],
   "source": [
    "Khatabook\n"
   ]
  },
  {
   "cell_type": "code",
   "execution_count": 62,
   "id": "9a9fe27e",
   "metadata": {},
   "outputs": [
    {
     "data": {
      "text/plain": [
       "2"
      ]
     },
     "execution_count": 62,
     "metadata": {},
     "output_type": "execute_result"
    }
   ],
   "source": [
    "Krazybee\n"
   ]
  },
  {
   "cell_type": "code",
   "execution_count": 63,
   "id": "7716c4a4",
   "metadata": {},
   "outputs": [
    {
     "data": {
      "text/plain": [
       "27"
      ]
     },
     "execution_count": 63,
     "metadata": {},
     "output_type": "execute_result"
    }
   ],
   "source": [
    "MoneyView"
   ]
  },
  {
   "cell_type": "code",
   "execution_count": 65,
   "id": "4279d706",
   "metadata": {},
   "outputs": [
    {
     "data": {
      "text/plain": [
       "4"
      ]
     },
     "execution_count": 65,
     "metadata": {},
     "output_type": "execute_result"
    }
   ],
   "source": [
    "Ok_Credit"
   ]
  },
  {
   "cell_type": "code",
   "execution_count": null,
   "id": "d34ed702",
   "metadata": {},
   "outputs": [],
   "source": []
  }
 ],
 "metadata": {
  "kernelspec": {
   "display_name": "Python 3 (ipykernel)",
   "language": "python",
   "name": "python3"
  },
  "language_info": {
   "codemirror_mode": {
    "name": "ipython",
    "version": 3
   },
   "file_extension": ".py",
   "mimetype": "text/x-python",
   "name": "python",
   "nbconvert_exporter": "python",
   "pygments_lexer": "ipython3",
   "version": "3.9.12"
  }
 },
 "nbformat": 4,
 "nbformat_minor": 5
}
