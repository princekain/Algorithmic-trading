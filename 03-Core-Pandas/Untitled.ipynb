{
 "cells": [
  {
   "cell_type": "code",
   "execution_count": 1,
   "id": "8ea38f2c",
   "metadata": {},
   "outputs": [
    {
     "data": {
      "text/plain": [
       "16"
      ]
     },
     "execution_count": 1,
     "metadata": {},
     "output_type": "execute_result"
    }
   ],
   "source": [
    "2**4\n"
   ]
  },
  {
   "cell_type": "code",
   "execution_count": 2,
   "id": "7bae850b",
   "metadata": {},
   "outputs": [
    {
     "name": "stdout",
     "output_type": "stream",
     "text": [
      "hello\n"
     ]
    }
   ],
   "source": [
    "x='hello'\n",
    "print(x)"
   ]
  },
  {
   "cell_type": "code",
   "execution_count": 5,
   "id": "18e97ed0",
   "metadata": {},
   "outputs": [
    {
     "name": "stdout",
     "output_type": "stream",
     "text": [
      "hello darling\n"
     ]
    }
   ],
   "source": [
    "print('{} darling'.format(x))"
   ]
  },
  {
   "cell_type": "code",
   "execution_count": null,
   "id": "32577a21",
   "metadata": {},
   "outputs": [],
   "source": [
    "name='ABCp'\n",
    "place='Shimla'\n",
    "print('{a} {b} darling, would u like to come to {c}'.format(a='hello',b='ABCD',c='Shimla'))"
   ]
  },
  {
   "cell_type": "code",
   "execution_count": 23,
   "id": "ed10e7d5",
   "metadata": {},
   "outputs": [
    {
     "data": {
      "text/plain": [
       "6"
      ]
     },
     "execution_count": 23,
     "metadata": {},
     "output_type": "execute_result"
    }
   ],
   "source": [
    "marks=[12,34,76,90,99,[1,1,1,2,2,3]]\n",
    "len(marks)"
   ]
  },
  {
   "cell_type": "code",
   "execution_count": 30,
   "id": "62024d03",
   "metadata": {},
   "outputs": [
    {
     "data": {
      "text/plain": [
       "1"
      ]
     },
     "execution_count": 30,
     "metadata": {},
     "output_type": "execute_result"
    }
   ],
   "source": [
    "marks[4+1][-1+1]"
   ]
  },
  {
   "cell_type": "code",
   "execution_count": 43,
   "id": "c677eef1",
   "metadata": {},
   "outputs": [
    {
     "data": {
      "text/plain": [
       "['mango', 'apple', 'banana', 'orange']"
      ]
     },
     "execution_count": 43,
     "metadata": {},
     "output_type": "execute_result"
    }
   ],
   "source": [
    "fruits={'name':['mango','apple','banana'],'color':{'yello':12,'red':13,'yello':11}}\n",
    "fruits['name'].append('orange')\n",
    "fruits['name']"
   ]
  },
  {
   "cell_type": "code",
   "execution_count": 54,
   "id": "0d420925",
   "metadata": {},
   "outputs": [
    {
     "data": {
      "text/plain": [
       "'f'"
      ]
     },
     "execution_count": 54,
     "metadata": {},
     "output_type": "execute_result"
    }
   ],
   "source": [
    "u=('a,d,f')\n",
    "u[-1]\n"
   ]
  },
  {
   "cell_type": "code",
   "execution_count": 56,
   "id": "4482cb26",
   "metadata": {},
   "outputs": [
    {
     "data": {
      "text/plain": [
       "{1, 2, 3}"
      ]
     },
     "execution_count": 56,
     "metadata": {},
     "output_type": "execute_result"
    }
   ],
   "source": [
    "s={1,1,1,2,2,3,3,2,2,}\n",
    "s"
   ]
  }
 ],
 "metadata": {
  "kernelspec": {
   "display_name": "Python 3 (ipykernel)",
   "language": "python",
   "name": "python3"
  },
  "language_info": {
   "codemirror_mode": {
    "name": "ipython",
    "version": 3
   },
   "file_extension": ".py",
   "mimetype": "text/x-python",
   "name": "python",
   "nbconvert_exporter": "python",
   "pygments_lexer": "ipython3",
   "version": "3.9.12"
  }
 },
 "nbformat": 4,
 "nbformat_minor": 5
}
